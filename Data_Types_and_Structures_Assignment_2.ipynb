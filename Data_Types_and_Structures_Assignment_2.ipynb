{
  "nbformat": 4,
  "nbformat_minor": 0,
  "metadata": {
    "colab": {
      "provenance": []
    },
    "kernelspec": {
      "name": "python3",
      "display_name": "Python 3"
    },
    "language_info": {
      "name": "python"
    }
  },
  "cells": [
    {
      "cell_type": "markdown",
      "source": [
        "# ***THEORY QUESTIONS***"
      ],
      "metadata": {
        "id": "H6UcyceAxSBB"
      }
    },
    {
      "cell_type": "markdown",
      "source": [
        "## 1)What are data structures, and why are they important?\n",
        "Ans:-Data structures in Python are ways of organizing and storing data so that they can be accessed and modified efficiently. They are fundamental to programming as they enable developers to manage and manipulate data effectively. Here are some of the key data structures in Python and why they are important:\n",
        "\n",
        "1. Lists\n",
        "Description: Ordered, mutable collections of items. Items can be of different types.\n",
        "Syntax: my_list = [1, 2, 3, \"apple\"]\n",
        "Importance: Lists allow for dynamic resizing and provide a range of methods for manipulating their contents, making them versatile for various applications such as storing sequences of data, implementing stacks, and queues.\n",
        "\n",
        "2. Tuples\n",
        "Description: Ordered, immutable collections of items. Like lists, items can be of different types.\n",
        "Syntax: my_tuple = (1, 2, 3, \"apple\")\n",
        "Importance: Tuples are used for fixed collections of items. They are faster and more memory-efficient than lists, making them useful for read-only data or data that shouldn’t be changed.\n",
        "\n",
        "3. Dictionaries\n",
        "Description: Unordered collections of key-value pairs. Keys must be unique and immutable.\n",
        "Syntax: my_dict = {\"name\": \"John\", \"age\": 30}\n",
        "Importance: Dictionaries provide a way to associate pieces of data (keys) with specific values. They are highly efficient for lookups, insertions, and deletions based on keys.\n",
        "\n",
        "4. Sets\n",
        "Description: Unordered collections of unique items.\n",
        "Syntax: my_set = {1, 2, 3, \"apple\"}\n",
        "Importance: Sets are used for membership testing and eliminating duplicate entries. They support operations like union, intersection, and difference, which are useful in various algorithms and applications.\n",
        "\n",
        "5. Strings\n",
        "Description: Ordered, immutable sequences of characters.\n",
        "Syntax: my_string = \"Hello, World!\"\n",
        "Importance: Strings are used to store and manipulate text. They provide numerous methods for operations like searching, splitting, joining, and formatting, which are essential for text processing.\n"
      ],
      "metadata": {
        "id": "k5838S7nxOQN"
      }
    },
    {
      "cell_type": "markdown",
      "source": [
        "## 2)Explain the difference between mutable and immutable data types with examples?\n",
        "Ans:-In Python, data types can be classified as either mutable or immutable based on whether or not their state (i.e., the content of the object) can be changed after the object is created. Understanding the difference between these types is essential for writing efficient and bug-free code.\n",
        "\n",
        "a)Mutable Data Types:-\n",
        "Mutable data types are those whose values can be changed after they are created. This means you can modify the object in place without creating a new object.\n",
        "\n",
        "Examples of Mutable Data Types:\n",
        "1)Lists:-\n",
        "my_list = [1, 2, 3]\n",
        "\n",
        "my_list.append(4)  # Modifies the original list\n",
        "\n",
        "print(my_list)  # Output: [1, 2, 3, 4]\n",
        "\n",
        "2)Dictionaries:-\n",
        "my_dict = {'name': 'Alice', 'age': 25}\n",
        "\n",
        "my_dict['age'] = 26  # Modifies the original dictionary\n",
        "\n",
        "print(my_dict)  # Output: {'name': 'Alice', 'age': 26}\n",
        "\n",
        "3)sets:-\n",
        "my_set = {1, 2, 3}\n",
        "\n",
        "my_set.add(4)  # Modifies the original set\n",
        "\n",
        "print(my_set)  # Output: {1, 2, 3, 4}\n",
        "\n",
        "b)Immutable Data Types:-\n",
        "Immutable data types are those whose values cannot be changed once they are created. Any operation that seems to modify the object will instead create a new object.\n",
        "\n",
        "Examples of Immutable Data Types:-\n",
        "4)Strings:-\n",
        "my_string = \"Hello\"\n",
        "\n",
        "new_string = my_string + \" World\"  # Creates a new string\n",
        "\n",
        "print(my_string)  # Output: \"Hello\"\n",
        "\n",
        "print(new_string)  # Output: \"Hello World\"\n",
        "\n",
        "5)Tuples:-\n",
        "my_tuple = (1, 2, 3)\n",
        "\n",
        "new_tuple = my_tuple + (4,)  # Creates a new tuple\n",
        "\n",
        "print(my_tuple)  # Output: (1, 2, 3)\n",
        "\n",
        "print(new_tuple)  # Output: (1, 2, 3, 4)\n"
      ],
      "metadata": {
        "id": "FccLBI5P2fJU"
      }
    },
    {
      "cell_type": "markdown",
      "source": [
        "## 3)What are the main differences between lists and tuples in Python?\n",
        "Ans:-Lists and tuples are both sequence data types in Python that can store collections of items, but they have several key differences. Here are the main distinctions between lists and tuples:\n",
        "\n",
        "a)Lists:-Mutable. Elements in a list can be changed, added, or removed after the list is created.lists defined using square brackets.\n",
        "\n",
        "my_list = [1, 2, 3]\n",
        "\n",
        "my_list[0] = 4  # Modifies the first element\n",
        "\n",
        "my_list.append(5)  # Adds a new element to the end\n",
        "\n",
        "print(my_list) #Output: [4, 2, 3, 5]\n",
        "\n",
        "b)Tuples:-Immutable. Once a tuple is created, its elements cannot be changed, added, or removed.tuples defined using parentheses.\n",
        "\n",
        "my_tuple = (1, 2, 3)\n",
        "\n",
        " #my_tuple[0] = 4  #This would raise an error\n",
        "\n",
        "print(my_tuple)  # Output: (1, 2, 3)\n",
        "\n",
        "\n"
      ],
      "metadata": {
        "id": "MzpmCAEb5Bea"
      }
    },
    {
      "cell_type": "markdown",
      "source": [
        "## 4)Describe how dictionaries store data.\n",
        "Ans:-In Python, dictionaries are powerful data structures that store data as key-value pairs.\n",
        "A dictionary in Python is an unordered collection where each item is a pair consisting of a key and a value. Each key must be unique and immutable (like strings, numbers, or tuples), while the values can be of any type and can be duplicated.\n",
        "\n",
        "my_dict = {'name': 'Ajay', 'age': 30, 'city': 'Bengaluru'}\n",
        "\n",
        "Dictionaries in Python are versatile data structures that use hash tables to store key-value pairs efficiently. The internal implementation using hashing allows for fast average-case operations, making dictionaries suitable for scenarios where quick lookups, insertions, and deletions are required.\n",
        "\n",
        "\n",
        "\n",
        "\n",
        "\n",
        "\n"
      ],
      "metadata": {
        "id": "Tcz4r_aq76QE"
      }
    },
    {
      "cell_type": "markdown",
      "source": [
        "## 5)Why might you use a set instead of a list in Python?\n",
        "Ans:-In Python, both sets and lists are used to store collections of items, but they serve different purposes and have distinct characteristics. Here are several reasons why you might use a set instead of a list:\n",
        "\n",
        "1)Uniqueness\n",
        "\n",
        "Sets:-Automatically enforce the uniqueness of their elements. If you add a duplicate element to a set, it will be ignored.\n",
        "my_set = {1, 2, 3}\n",
        "\n",
        "my_set.add(2)\n",
        "\n",
        "print(my_set)  # Output: {1, 2, 3}\n",
        "\n",
        "Lists:-lists allow duplicate elements.\n",
        "my_set = {1, 2, 3}\n",
        "\n",
        "my_set.add(2)\n",
        "\n",
        "print(my_set)  # Output: {1, 2, 3}\n",
        "\n",
        "2)Membership Testing\n",
        "\n",
        "Sets: Provide efficient membership testing (i.e., checking if an element is in the set) with an average time complexity of O(1).\n",
        "\n",
        "my_set = {1, 2, 3}\n",
        "\n",
        "print(2 in my_set)  # Output: True\n",
        "\n",
        "Use Case: Use sets when you need to ensure that all elements are unique, such as when keeping track of unique items in a collection.\n",
        "\n",
        "Lists: Have an average time complexity of O(n) for membership testing, as it requires scanning through the list.\n",
        "\n",
        "my_list = [1, 2, 3]\n",
        "\n",
        "print(2 in my_list)  # Output: True\n",
        "\n",
        "Use Case: Use sets for fast membership testing, such as checking if an item has been processed or exists in a collection.\n",
        "\n",
        "3) Set Operations\n",
        "Sets: Support mathematical set operations like union, intersection, difference, and symmetric difference, which are not directly available for lists.\n",
        "\n",
        "set_a = {1, 2, 3}\n",
        "\n",
        "set_b = {3, 4, 5}\n",
        "\n",
        "print(set_a.union(set_b))  # Output: {1, 2, 3, 4, 5}\n",
        "\n",
        "print(set_a.intersection(set_b))  # Output: {3}\n",
        "\n",
        "print(set_a.difference(set_b))  # Output: {1, 2}\n",
        "\n",
        "print(set_a.symmetric_difference(set_b))  # Output: {1, 2, 4, 5}\n",
        "\n",
        "Lists: Require more manual and less efficient handling for these operations.\n",
        "\n",
        "list_a = [1, 2, 3]\n",
        "\n",
        "list_b = [3, 4, 5]\n",
        "\n",
        "union = list(set(list_a) | set(list_b))\n",
        "\n",
        "intersection = list(set(list_a) & set(list_b))\n",
        "\n",
        "difference = list(set(list_a) - set(list_b))\n",
        "\n",
        "symmetric_difference = list(set(list_a) ^ set(list_b))\n",
        "\n",
        "print(union)  # Output: [1, 2, 3, 4, 5]\n",
        "\n",
        "print(intersection)  # Output: [3]\n",
        "\n",
        "print(difference)  # Output: [1, 2]\n",
        "\n",
        "print(symmetric_difference)  # Output: [1, 2, 4, 5]\n",
        "\n",
        "Use Case: Use sets when you need to perform set operations on collections of items.\n",
        "\n",
        "4)Performance Considerations\n",
        "\n",
        "Sets: Have generally better performance for operations that involve checking the presence of an element, adding elements, and removing\n",
        "elements due to their hash-based implementation.\n",
        "\n",
        "Lists: May be more suitable for scenarios where the order of elements is important and frequent indexing or slicing is required.\n",
        "\n",
        "5) Immutability and Hashing\n",
        "Sets: Can only contain hashable (immutable) elements. This means you cannot have lists or other sets as elements of a set, but you can have tuples.\n",
        "\n",
        "my_set = {1, 2, (3, 4)}\n",
        "\n",
        "Lists: Can contain any type of elements, including other lists and sets\n",
        "\n",
        "my_list = [1, 2, [3, 4]]\n",
        "\n",
        "6) Order\n",
        "Sets: Unordered collections of items. The order of elements is not guaranteed and can change.\n",
        "\n",
        "Lists: Ordered collections of items. The order of elements is maintained.\n",
        "\n",
        "Use Case: Use lists when the order of elements is important, such as when sequencing tasks or maintaining the order of inputs.\n",
        "\n",
        "Understanding these differences helps you choose the appropriate data structure for your specific needs, leading to more efficient and effective code.\n",
        "\n",
        "\n",
        "\n"
      ],
      "metadata": {
        "id": "yOwTScB1_1cq"
      }
    },
    {
      "cell_type": "markdown",
      "source": [
        "## 6)What is a string in Python, and how is it different from a list?\n",
        "Ans:-A string in Python is a sequence of characters enclosed within single quotes ('...'), double quotes (\"...\"), or triple quotes ('''...''' or \"\"\"...\"\"\"). Strings are used to represent text and are one of the most commonly used data types in Python.\n",
        "\n",
        "Here are the main differences between a string and a list in Python:\n",
        "\n",
        "1. Mutability\n",
        "\n",
        "Strings: Immutable. Once a string is created, its content cannot be changed. Any operation that modifies a string will create a new string.\n",
        "\n",
        "my_string = \"hello\"# my_string[0] = 'H'  # This would raise an error\n",
        "new_string = my_string.replace('h', 'H')\n",
        "\n",
        "print(new_string)  # Output: \"Hello\"\n",
        "\n",
        "Lists: Mutable. Elements in a list can be changed, added, or removed after the list is created.\n",
        "\n",
        "my_list = [1, 2, 3]\n",
        "\n",
        "my_list[0] = 4\n",
        "\n",
        "print(my_list)  # Output: [4, 2, 3]\n",
        "\n",
        "2. Contents\n",
        "Strings: Consist of characters. Each character in a string is a single element.\n",
        "\n",
        "\n",
        "my_string = \"hello\"\n",
        "\n",
        "first_char = my_string[0]\n",
        "\n",
        "print(first_char)  # Output: \"h\"\n",
        "\n",
        "Lists: Can contain elements of any data type, including strings, numbers, other lists, etc.\n",
        "\n",
        "my_list = [1, \"hello\", [3, 4]]\n",
        "\n",
        "print(my_list[1])  # Output: \"hello\"\n",
        "\n",
        "3. Syntax and Creation\n",
        "Strings: Created by enclosing characters in quotes.\n",
        "\n",
        "my_string = \"hello\"\n",
        "\n",
        "Lists: Created by enclosing elements in square brackets.\n",
        "\n",
        "my_list = [1, 2, 3]\n",
        "\n",
        "4. Accessing Elements\n",
        "\n",
        "Strings: Accessed by index, just like lists. Each character can be accessed individually using its index.\n",
        "\n",
        "my_string = \"hello\"\n",
        "\n",
        "print(my_string[1])  # Output: \"e\"\n",
        "\n",
        "Lists: Accessed by index. Each element can be accessed individually using its index.\n",
        "\n",
        "my_list = [1, 2, 3]\n",
        "\n",
        "print(my_list[1])  # Output: 2\n",
        "\n",
        "5. Slicing\n",
        "Strings: Support slicing to create substrings.\n",
        "\n",
        "my_string = \"hello\"\n",
        "\n",
        "print(my_string[1:4])  # Output: \"ell\"\n",
        "\n",
        "Lists: Support slicing to create sublists.\n",
        "\n",
        "my_list = [1, 2, 3, 4, 5]\n",
        "\n",
        "print(my_list[1:4])  # Output: [2, 3, 4]\n",
        "\n",
        "6. Operations\n",
        "Strings: Support operations such as concatenation, repetition, and methods like split(), join(), replace(), and lower().\n",
        "\n",
        "my_string = \"hello\"\n",
        "\n",
        "new_string = my_string + \" world\"  # Concatenation\n",
        "\n",
        "print(new_string)  # Output: \"hello world\"\n",
        "\n",
        "print(my_string.upper())  # Output: \"HELLO\"\n",
        "\n",
        "Lists: Support operations such as concatenation, repetition, and methods like append(), extend(), remove(), and pop().\n",
        "\n",
        "my_list = [1, 2, 3]\n",
        "\n",
        "my_list.append(4)\n",
        "\n",
        "print(my_list)  # Output: [1, 2, 3, 4]\n",
        "\n",
        "7. Use Cases\n",
        "Strings: Typically used to store and manipulate text.\n",
        "\n",
        "greeting = \"Hello, world!\"\n",
        "\n",
        "Lists: Used to store collections of items, which can be of different types.\n",
        "\n",
        "shopping_list = [\"apples\", \"bananas\", \"milk\"]\n",
        "\n",
        "Summary:\n",
        "\n",
        "a)Strings are sequences of characters used to represent text and are immutable.\n",
        "\n",
        "b)Lists are collections of items that can be of any data type and are mutable."
      ],
      "metadata": {
        "id": "jSWkAmzSFZqb"
      }
    },
    {
      "cell_type": "markdown",
      "source": [
        "## 7)How do tuples ensure data integrity in Python?\n",
        "Ans:-Tuples in Python ensure data integrity primarily through their immutability. Here’s how they contribute to data integrity:\n",
        "\n",
        "Immutability: Once a tuple is created, its contents cannot be altered. This means you cannot add, remove, or change elements after the tuple is created. This immutability ensures that the data stored in tuples remains consistent and unmodified throughout the program.\n",
        "\n",
        "Hashability: Because tuples are immutable, they can be used as keys in dictionaries and elements in sets. This allows for the creation of complex data structures and ensures that the keys or elements remain constant and can be relied upon to maintain data integrity.\n",
        "\n",
        "Protection Against Accidental Changes: Since tuples cannot be modified, there is no risk of accidentally changing data that should remain constant. This is particularly useful when passing data to functions or methods, ensuring that the original data remains unchanged.\n",
        "\n",
        "Predictable Behavior: The fixed nature of tuples makes their behavior predictable. This can simplify debugging and reduce the likelihood of errors related to unintended data modification.\n",
        "\n",
        "Efficient Memory Usage: Tuples are generally more memory-efficient than lists, particularly for small collections of items. This efficiency can contribute to better performance and stability of programs, indirectly supporting data integrity by reducing the chances of memory-related issues."
      ],
      "metadata": {
        "id": "e1OdaFxBJvuv"
      }
    },
    {
      "cell_type": "markdown",
      "source": [
        "## 8)What is a hash table, and how does it relate to dictionaries in Python?\n",
        "Ans:-A hash table is a data structure that maps keys to values using a hash function to compute an index into an array of buckets or slots, from which the desired value can be found.\n",
        "\n",
        "Key Concepts of Hash Tables:\n",
        "Hash Function: A function that takes an input (or \"key\") and returns an integer (the hash code). The hash code is used to index into an array, where the corresponding value is stored. A good hash function distributes keys uniformly across the array to minimize collisions.\n",
        "\n",
        "Buckets/Slots: The array in which values are stored. Each position in the array is called a bucket or slot.\n",
        "\n",
        "Collisions: Situations where different keys hash to the same index. Collisions are handled using techniques such as chaining (storing multiple elements in the same bucket using a linked list) or open addressing (finding another bucket within the array).\n",
        "\n",
        "student_grades =\n",
        " {\n",
        "    \"Alice\": 85,\n",
        "    \"Bob\": 90,\n",
        "    \"Charlie\": 92\n",
        " }\n",
        "\n",
        "print(student_grades[\"Alice\"])  # Output: 85 #Accessing a value (uses hashing to find the value quickly)\n",
        "\n",
        "student_grades[\"David\"] = 88 # Adding a new key-value pair (uses hashing to find the slot)\n",
        "\n",
        "del student_grades[\"Bob\"] # Deleting a key-value pair (uses hashing to find the slot)\n"
      ],
      "metadata": {
        "id": "EWe4AMmbMZa0"
      }
    },
    {
      "cell_type": "markdown",
      "source": [
        "## 9)Can lists contain different data types in Python?\n",
        "Ans:-Yes, lists in Python can contain elements of different data types. This flexibility is one of the features that makes Python lists so powerful and versatile.\n",
        "\n",
        "Examples of Lists with Different Data Types:\n",
        "\n",
        "a)Mixed Data Types:\n",
        "\n",
        "mixed_list = [1, \"hello\", 3.14, True, None]\n",
        "print(mixed_list) # Output: [1, 'hello', 3.14, True, None]\n",
        "\n",
        "b)Lists with Nested Structures:\n",
        " Lists can also contain other lists, tuples, dictionaries, or any other data structures, allowing for complex data arrangements.\n",
        "\n",
        "\n",
        "nested_list = [1, [2, 3], (\"a\", \"b\"), {\"key\": \"value\"}]\n",
        "print(nested_list) # Output: [1, [2, 3], ('a', 'b'), {'key': 'value'}]"
      ],
      "metadata": {
        "id": "lZh41LhiPsI5"
      }
    },
    {
      "cell_type": "markdown",
      "source": [
        "## 10) Explain why strings are immutable in Python?\n",
        "Ans:-Strings in Python are immutable, meaning that once a string is created, its contents cannot be changed. This immutability is by design and serves several important purposes:\n",
        "\n",
        "Reasons for String Immutability\n",
        "\n",
        "a)Efficiency and Performance:\n",
        "\n",
        "Memory Management: Immutability allows Python to optimize memory usage through a technique called interning. This involves reusing memory for identical strings, reducing the overhead of storing multiple copies of the same string.\n",
        "\n",
        "Caching: Python can cache and reuse string objects more effectively when they are immutable, leading to performance improvements, especially with small or commonly used strings.\n",
        "Security:\n",
        "\n",
        "b)Hashing: Strings are commonly used as keys in dictionaries and elements in sets. These data structures rely on the hash value of the strings. If strings were mutable, their hash value could change, leading to inconsistencies and errors in dictionaries and sets.\n",
        "\n",
        "Integrity: Immutable strings ensure that the data remains consistent and unchanged throughout its usage, which is critical for maintaining data integrity in various applications.\n",
        "\n",
        "c)Simplified Development:\n",
        "\n",
        "Thread Safety: Immutable objects are inherently thread-safe because their state cannot be modified after creation. This makes it easier to share and pass strings between different parts of a program without worrying about concurrent modifications.\n",
        "\n",
        "Predictable Behavior: Immutability ensures that functions and methods that take strings as arguments cannot alter the original string, leading to more predictable and understandable code."
      ],
      "metadata": {
        "id": "7ElwcQsrQvA4"
      }
    },
    {
      "cell_type": "markdown",
      "source": [
        "## 11)What advantages do dictionaries offer over lists for certain tasks?\n",
        "Ans:-Dictionaries in Python offer several advantages over lists for certain tasks due to their unique characteristics and capabilities. Here are some key advantages:\n",
        "\n",
        "1. Fast Lookups\n",
        "Constant Time Complexity: Dictionaries provide average-case O(1) time complexity for lookups, insertions, and deletions because they use hash tables internally. This is significantly faster than lists, which have an average-case O(n) time complexity for these operations.\n",
        "\n",
        "Example:\n",
        "\n",
        "\n",
        "phone_book = {\"Alice\": \"123-456\", \"Bob\": \"987-654\"}\n",
        "print(phone_book[\"Alice\"])  # Fast lookup\n",
        "\n",
        "2. Key-Value Pair Storage\n",
        "Association of Data: Dictionaries store data as key-value pairs, making it easy to associate and retrieve related pieces of information. Lists, on the other hand, are suited for storing sequences of items where the position is important.\n",
        "\n",
        "Example:\n",
        "\n",
        "\n",
        "student_grades = {\"Alice\": 85, \"Bob\": 90, \"Charlie\": 92}\n",
        "print(student_grades[\"Bob\"])  # Accessing value by key\n",
        "\n",
        "3. Unique Keys\n",
        "Uniqueness: Dictionary keys are unique, ensuring that each key maps to one and only one value. This prevents duplicate entries and provides a clear, unambiguous way to access data.\n",
        "\n",
        "Example:\n",
        "\n",
        "\n",
        "product_prices = {\"apple\": 0.5, \"banana\": 0.3}\n",
        "product_prices[\"apple\"] = 0.6  # Updates the value for the existing key\n",
        "\n",
        "4. Dynamic Data Handling\n",
        "Flexible Data Structures: Dictionaries are more suitable for dynamic and sparse data where only certain keys might have associated values, and these keys are not sequential or ordered.\n",
        "\n",
        "Example:\n",
        "\n",
        "\n",
        "user_profiles = {\n",
        "    \"user1\": {\"name\": \"Alice\", \"age\": 25},\n",
        "    \"user2\": {\"name\": \"Bob\", \"age\": 30}\n",
        "}\n",
        "\n",
        "5. Improved Readability and Maintenance\n",
        "Descriptive Keys: Using descriptive keys makes the code more readable and easier to maintain, as the purpose of each key-value pair is clear.\n",
        "\n",
        "Example:\n",
        "\n",
        "\n",
        "employee = {\"name\": \"Alice\", \"position\": \"Engineer\", \"salary\": 70000}\n",
        "print(employee[\"name\"])  # Clear and descriptive\n",
        "\n",
        "6. Built-in Methods\n",
        "Rich Methods: Dictionaries come with a rich set of built-in methods for manipulation, such as keys(), values(), items(), get(), update(), and more, providing powerful tools for managing data.\n",
        "\n",
        "Example:\n",
        "\n",
        "inventory = {\"apples\": 10, \"oranges\": 5}\n",
        "inventory.update({\"bananas\": 7})\n",
        "print(inventory) # Output: {'apples': 10, 'oranges': 5, 'bananas': 7}\n",
        "\n",
        "7. Handling Missing Keys Gracefully\n",
        "Default Values: The get method allows for handling missing keys gracefully by providing a default value, which can prevent errors and make code more robust.\n",
        "\n",
        "Example:\n",
        "\n",
        "\n",
        "fruit_stock = {\"apple\": 10, \"banana\": 5}\n",
        "print(fruit_stock.get(\"orange\", 0))  # Output: 0 (default value for missing key)\n",
        "\n"
      ],
      "metadata": {
        "id": "Wl4RRAryS7Mc"
      }
    },
    {
      "cell_type": "markdown",
      "source": [
        "## 12)Describe a scenario where using a tuple would be preferable over a list.\n",
        "Ans:-Using a tuple would be preferable over a list in scenarios where data integrity and immutability are important. Here are some specific scenarios where tuples offer advantages over lists:\n",
        "\n",
        "1. Fixed Data Structure\n",
        "When you have a fixed collection of items that should not change, a tuple is ideal because it enforces immutability.\n",
        "\n",
        "Example: Coordinates of a Point\n",
        "\n",
        "point = (10, 20)  # (x, y)\n",
        "\n",
        "In this case, the coordinates of a point are fixed and should not be modified. Using a tuple ensures that these values remain constant.\n",
        "\n",
        "2. Return Multiple Values from a Function\n",
        "Tuples are commonly used to return multiple values from a function, as they provide a clear and immutable way to group the values together.\n",
        "\n",
        "Example: Returning Multiple Values\n",
        "\n",
        "def get_name_and_age():\n",
        "\n",
        "    name = \"Alice\"\n",
        "    age = 30\n",
        "    return name, age  # Returns a tuple\n",
        "\n",
        "name, age = get_name_and_age()\n",
        "\n",
        "print(name, age)# Output: Alice 30\n",
        "\n",
        "Here, using a tuple to return multiple values makes it easy to unpack and ensures the returned values are not accidentally modified.\n",
        "\n",
        "3. Using as Dictionary Keys\n",
        "Tuples can be used as keys in dictionaries because they are immutable and hashable, whereas lists cannot.\n",
        "\n",
        "Example: Using Tuples as Dictionary Keys # Coordinates as keys in a dictionary\n",
        "\n",
        "locations = {\n",
        "    (10, 20): \"Location A\",\n",
        "    (30, 40): \"Location B\"\n",
        "}\n",
        "print(locations[(10, 20)]) # Output: Location A\n",
        "\n",
        "In this scenario, the immutability of tuples ensures that the keys remain constant and reliable.\n",
        "\n",
        "4. Ensuring Data Integrity\n",
        "When you want to ensure that a collection of values remains unchanged throughout the program, using a tuple is preferable.\n",
        "\n",
        "Example: Configuration Settings\n",
        "\n",
        "config = (\"localhost\", 8080, \"user\", \"password\")\n",
        "\n",
        "Using a tuple for configuration settings ensures that these critical values are not modified accidentally during the program's execution.\n",
        "\n",
        "5. Memory Efficiency\n",
        "Tuples are generally more memory-efficient than lists, making them a better choice for large collections of fixed values.\n",
        "\n",
        "Example: Large Collection of Immutable Data\n",
        "\n",
        "large_tuple = (1, 2, 3, 4, 5) * 1000000\n",
        "If you have a large collection of values that do not need to be modified, using a tuple can save memory.\n",
        "\n",
        "6. Iterating Over Constant Data\n",
        "When you have constant data that you need to iterate over, tuples are preferable because their immutability ensures the data remains unchanged during iteration.\n",
        "\n",
        "Example: Iterating Over Constant Data\n",
        "\n",
        "days_of_week = (\"Monday\", \"Tuesday\", \"Wednesday\", \"Thursday\", \"Friday\", \"Saturday\", \"Sunday\")\n",
        "\n",
        "for day in days_of_week:\n",
        "\n",
        "print(day)\n",
        "\n",
        "Here, using a tuple for the days of the week ensures that this set of data remains constant and unmodifiable.\n",
        "\n",
        "\n"
      ],
      "metadata": {
        "id": "AQEqk9KDV94_"
      }
    },
    {
      "cell_type": "markdown",
      "source": [
        "## 13) How do sets handle duplicate values in Python?\n",
        "Ans:-In Python, sets are collections that automatically handle duplicate values by ensuring that each element is unique. When you add elements to a set, any duplicate values are ignored. This means that even if you attempt to add the same value multiple times, the set will only retain a single instance of that value.\n",
        "\n",
        "Here's an example to illustrate how sets handle duplicates:\n",
        "\n",
        "my_set = {1, 2, 2, 3, 4, 4, 4, 5}\n",
        "\n",
        "print(my_set) # Printing the set  # Output: {1, 2, 3, 4, 5}\n",
        "In this example, although the values 2 and 4 are added multiple times to the set my_set, they only appear once in the set.\n",
        "\n",
        "If you want to add elements to a set dynamically and handle duplicates, you can use the add() method:\n",
        "\n",
        "my_set = set() # Creating an empty set\n",
        "\n",
        "my_set.add(1) # Adding elements to the set\n",
        "my_set.add(2)\n",
        "my_set.add(2)  # Duplicate value\n",
        "my_set.add(3)\n",
        "\n",
        "print(my_set) # Printing the set # Output: {1, 2, 3}\n",
        "Again, the duplicate value 2 is only stored once in the set.\n",
        "\n",
        "In summary, sets in Python automatically handle duplicates by maintaining only unique elements. This property makes sets useful for tasks that require the removal of duplicates from a collection of items."
      ],
      "metadata": {
        "id": "IoxYEFACePdn"
      }
    },
    {
      "cell_type": "markdown",
      "source": [
        "## 14)How does the “in” keyword work differently for lists and dictionaries?\n",
        "Ans:-The in keyword in Python is used to check for membership within a collection. However, its behavior differs when used with lists and dictionaries.\n",
        "\n",
        "Using in with Lists\n",
        "When used with a list, the in keyword checks if a specific value exists within the list. It searches through the list's elements and returns True if the value is found and False otherwise.\n",
        "\n",
        "Example:\n",
        "\n",
        "my_list = [1, 2, 3, 4, 5]\n",
        "\n",
        "print(3 in my_list)  # Output: True\n",
        "\n",
        "print(6 in my_list)  # Output: False\n",
        "\n",
        "Using in with Dictionaries\n",
        "When used with a dictionary, the in keyword checks for the presence of a specific key, not a value. It searches through the dictionary's keys and returns True if the key is found and False otherwise.\n",
        "\n",
        "Example:\n",
        "\n",
        "my_dict = {'a': 1, 'b': 2, 'c': 3}\n",
        "\n",
        "print('b' in my_dict)  # Output: True\n",
        "\n",
        "print('z' in my_dict)  # Output: False\n",
        "\n",
        "print(2 in my_dict)  # Output: False\n",
        "\n",
        "To check if a value exists within a dictionary, you can use the values() method to access all values and then use in:\n",
        "\n",
        "print(2 in my_dict.values())  # Output: True\n",
        "\n",
        "print(4 in my_dict.values())  # Output: False"
      ],
      "metadata": {
        "id": "hBr46qPm0a0i"
      }
    },
    {
      "cell_type": "markdown",
      "source": [
        "## 15)Can you modify the elements of a tuple? Explain why or why not?\n",
        "Ans:-No, you cannot modify the elements of a tuple in Python. This is because tuples are immutable, which means that once a tuple is created, its elements cannot be changed, added, or removed.\n",
        "\n",
        "Why Tuples Are Immutable\n",
        "The immutability of tuples is a design choice in Python that provides several benefits:\n",
        "\n",
        "Hashability: Because tuples are immutable, they can be used as keys in dictionaries and stored in sets, which require their elements to be hashable (i.e., unchangeable).\n",
        "\n",
        "Performance: Immutability can lead to performance optimizations. Since the contents of a tuple cannot change, Python can make certain optimizations under the hood to store and access tuples more efficiently.\n",
        "\n",
        "Safety: Immutability ensures that the contents of a tuple cannot be altered inadvertently, which can help prevent bugs in programs.\n",
        "\n",
        "Example of Tuple Immutability\n",
        "Let's illustrate this with an example:\n",
        "\n",
        "my_tuple = (1, 2, 3) # Creating a tuple\n",
        "\n",
        "my_tuple[1] = 4  # This will raise a TypeError\n",
        "The code above will raise a TypeError because we are trying to modify an element of a tuple, which is not allowed"
      ],
      "metadata": {
        "id": "kAJhO1R6178n"
      }
    },
    {
      "cell_type": "markdown",
      "source": [
        "## 16)What is a nested dictionary, and give an example of its use case?\n",
        "Ans:-A nested dictionary in Python is a dictionary where the values themselves are dictionaries. This allows for a hierarchical or multi-level data structure, making it useful for representing complex data relationships.\n",
        "\n",
        "Example and Use Case of Nested Dictionary\n",
        "One common use case for nested dictionaries is storing data that has multiple attributes or properties. For instance, you can use a nested dictionary to represent a collection of information about students, where each student has their own set of attributes like grades, contact information, and enrolled courses.\n",
        "\n",
        "Here's an example:\n",
        "\n",
        "students = {\n",
        "\n",
        "  \n",
        "    'student_1': {\n",
        "  \n",
        "        'name': 'Alice',\n",
        "  \n",
        "        'age': 20,\n",
        "  \n",
        "        'grades': {'math': 'A', 'science': 'B+'},\n",
        "  \n",
        "        'contact': {'email': 'alice@gmail.com', 'phone': '123-456-7890'}\n",
        "  \n",
        "    },\n",
        "  \n",
        "    'student_2': {\n",
        "  \n",
        "        'name': 'Bob',\n",
        "  \n",
        "        'age': 22,\n",
        "  \n",
        "        'grades': {'math': 'B', 'science': 'A'},\n",
        "  \n",
        "  \n",
        "        'contact': {'email': 'bob@gmail.com.com',\n",
        "        \n",
        "        'phone':'987-654-3210'}\n",
        "    }\n",
        "}\n",
        "\n",
        "\n",
        "print(students['student_1']['name'])        # Output: Alice\n",
        "\n",
        "print(students['student_2']['grades']['math'])  # Output: B\n",
        "\n",
        "print(students['student_1']['contact']['email']) # Output:\n",
        "\n",
        "alice@example.com\n",
        "\n",
        "In this example, students is a nested dictionary where each key (student_1, student_2) represents a different student. Each student's information is stored in another dictionary, which includes keys like name, age, grades, and contact."
      ],
      "metadata": {
        "id": "BW3JyXvU3BCJ"
      }
    },
    {
      "cell_type": "markdown",
      "source": [
        "## 17)Describe the time complexity of accessing elements in a dictionary.\n",
        "Ans:-In Python, dictionaries are implemented using hash tables, which generally provide efficient performance for accessing elements. Here's a detailed analysis of the time complexity involved:\n",
        "\n",
        "Accessing Elements by Key\n",
        "Average Case:\n",
        "𝑂(1)\n",
        "O(1)\n",
        "\n",
        "Accessing an element by its key typically has a constant time complexity,\n",
        "𝑂(1)\n",
        "O(1). This efficiency arises because the dictionary uses a hash function to compute the index of the key-value pair in an internal array, allowing for direct access.\n",
        "Worst Case:\n",
        "𝑂(𝑛)\n",
        "O(n)\n",
        "\n",
        "In the worst-case scenario, accessing an element can take linear time,\n",
        "𝑂(𝑛)\n",
        "O(n). This can happen in cases of severe hash collisions, where many keys hash to the same index, resulting in a long chain or cluster of entries. However, this is extremely rare due to the effective design of Python's hash functions and collision resolution techniques.\n",
        "How It Works\n",
        "Hash Function: When a key is used to access a value, Python computes the hash of the key to determine the index in the internal array where the value is stored. This computation and the subsequent index lookup are constant-time operations, leading to\n",
        "𝑂(1)\n",
        "O(1) average-case complexity.\n",
        "\n",
        "Hash Collisions: In scenarios where multiple keys hash to the same index (collision), Python handles collisions using a method called \"open addressing\" or \"chaining\". Even with collisions, the average-case complexity remains\n",
        "𝑂(1)\n",
        "O(1) due to the sparsity of collisions and efficient collision resolution strategies.\n",
        "\n",
        "Dynamic Resizing: Python dictionaries resize dynamically when the load factor (ratio of number of elements to the size of the internal array) becomes too high. This ensures that the average-case complexity remains\n",
        "𝑂(1)\n",
        "O(1) by keeping the hash table sufficiently sparse. The resizing operation itself has an amortized time complexity, meaning that over a sequence of insertions, the average time per insertion remains constant."
      ],
      "metadata": {
        "id": "Z_FGfCkX6Z3U"
      }
    },
    {
      "cell_type": "markdown",
      "source": [
        "## 18) In what situations are lists preferred over dictionaries?\n",
        "Ans:-Lists and dictionaries in Python serve different purposes and have distinct advantages depending on the use case. Here are some situations where lists are preferred over dictionaries:\n",
        "\n",
        "1. Ordered Data\n",
        "When Order Matters: Lists maintain the order of elements, which is crucial in situations where the sequence of data is important. For example, storing a sequence of steps in a process, a series of events, or a list of items in a specific order.\n",
        "\n",
        "steps = [\"Step 1: Preheat oven\", \"Step 2: Mix ingredients\", \"Step 3: Bake\"]\n",
        "\n",
        "2. Indexed Access\n",
        "When Access by Index is Needed: Lists allow accessing elements by their position (index). This is useful when you need to perform operations based on the position of elements, such as slicing or iterating over elements in a specific range.\n",
        "\n",
        "items = [\"apple\", \"banana\", \"cherry\"]\n",
        "\n",
        "first_item = items[0]  # \"apple\"\n",
        "\n",
        "3. Homogeneous Data\n",
        "When Storing Homogeneous Data: Lists are typically used to store collections of similar items. For example, a list of numbers, strings, or objects of the same type.\n",
        "\n",
        "scores = [85, 90, 78, 92]\n",
        "\n",
        "4. Simple Storage\n",
        "When Simplicity is Preferred: Lists are straightforward to use for simple collections of data. They don't require keys and are more intuitive for storing and retrieving items in a straightforward manner.\n",
        "\n",
        "colors = [\"red\", \"green\", \"blue\"]\n",
        "\n",
        "5. Iterative Operations\n",
        "When Performing Iterative Operations: Lists are ideal for operations that involve iterating over elements. They are well-suited for loops and comprehensions.\n",
        "\n",
        "numbers = [1, 2, 3, 4, 5]\n",
        "\n",
        "squares = [x**2 for x in numbers]\n",
        "\n",
        "6. Memory Efficiency\n",
        "When Memory Efficiency is Important: Lists generally use less memory than dictionaries because they only store values and not key-value pairs. If memory usage is a concern and you don't need the key-value pairing, lists are a better choice.\n",
        "\n",
        "7. Appends and Extends\n",
        "When Frequently Adding Elements: Lists are efficient for appending new elements using append() or extending the list with another list using extend().\n",
        "\n",
        "my_list = [1, 2, 3]\n",
        "\n",
        "my_list.append(4)\n",
        "\n",
        "my_list.extend([5, 6])\n",
        "\n",
        "8. Numerical Operations\n",
        "When Performing Numerical Operations: Lists are often used in conjunction with numerical operations, especially in libraries like NumPy, where arrays (a type of list) are used for efficient numerical computations.\n",
        "\n",
        "import numpy as np\n",
        "\n",
        "array = np.array([1, 2, 3, 4])\n",
        "\n",
        "result = np.sum(array)\n",
        "\n",
        "Summary:-\n",
        "While dictionaries are powerful for use cases requiring key-value associations, fast lookups by key, and managing unordered data, lists are preferred in scenarios where the order of elements, indexed access, simplicity, and efficient memory usage are more important. Understanding these distinctions helps in choosing the appropriate data structure for the task at hand.\n",
        "\n",
        "\n",
        "\n",
        "\n",
        "\n",
        "\n"
      ],
      "metadata": {
        "id": "ZbBVNJmJCzio"
      }
    },
    {
      "cell_type": "markdown",
      "source": [
        "## 19)Why are dictionaries considered unordered, and how does that affect data retrieval?\n",
        "Ans:-Dictionaries in Python are considered unordered collections because they store data in key-value pairs without maintaining any specific sequence for the elements. This lack of order impacts how data is retrieved and iterated over.\n",
        "\n",
        "Why Dictionaries are Unordered\n",
        "Hash Table Implementation:\n",
        "\n",
        "Dictionaries are implemented using hash tables. In a hash table, keys are passed through a hash function to compute an index, which determines where the key-value pair is stored in an internal array.\n",
        "The hash function's output and internal resizing of the hash table make the order of key-value pairs unpredictable and dependent on the internal state and operations performed on the dictionary.\n",
        "\n",
        "Efficiency Focus:\n",
        "The primary design goal of dictionaries is to provide fast lookups, insertions, and deletions by key. Maintaining order would require additional memory and computational overhead, potentially reducing the efficiency of these operations.\n",
        "Impact on Data Retrieval\n",
        "\n",
        "Unpredictable Order:\n",
        "\n",
        "Since dictionaries do not maintain a specific order, iterating over a dictionary or retrieving its keys, values, or items will not guarantee any particular sequence.\n",
        "For example:\n",
        "\n",
        "my_dict = {'a': 1, 'b': 2, 'c': 3}\n",
        "\n",
        "for key in my_dict:\n",
        "\n",
        "print(key)\n",
        "\n",
        "Iteration:\n",
        "\n",
        "When iterating over a dictionary, the order of the keys, values, or key-value pairs may appear arbitrary and can change if the dictionary is modified (e.g., adding or removing elements).\n",
        "\n",
        "Example:\n",
        "\n",
        "my_dict = {'one': 1, 'two': 2, 'three': 3}\n",
        "\n",
        "for key in my_dict.keys():\n",
        "\n",
        "print(key)\n",
        "\n",
        "No Index-Based Access:\n",
        "\n",
        "Unlike lists, which allow access to elements by index, dictionaries only allow access to values by their keys. Attempting to access dictionary elements by an index will raise an error.\n",
        "\n",
        "Example:\n",
        "\n",
        "my_dict = {'apple': 3, 'banana': 5}\n",
        "\n",
        "print(my_dict[0])\n",
        "\n",
        "Ordered Dictionaries:\n",
        "\n",
        "Python 3.7 and Later: Starting from Python 3.7, the built-in dict type maintains insertion order as an implementation detail. However, this behavior is a language guarantee starting from Python 3.7 onward.\n",
        "collections.OrderedDict: For versions prior to Python 3.7 or if you need explicit order guarantees, you can use collections.OrderedDict, which preserves the order in which keys were inserted.\n",
        "Example:\n",
        "\n",
        "from collections import OrderedDict\n",
        "\n",
        "ordered_dict = OrderedDict()\n",
        "\n",
        "ordered_dict['one'] = 1\n",
        "\n",
        "ordered_dict['two'] = 2\n",
        "\n",
        "ordered_dict['three'] = 3\n",
        "\n",
        "for key in ordered_dict:\n",
        "    print(key)\n",
        "\n",
        "Summary:\n",
        "Dictionaries are considered unordered collections because their implementation using hash tables focuses on efficiency for key-based operations rather than maintaining a specific order. This impacts data retrieval by making the order of keys, values, and items unpredictable. If order matters, you can use OrderedDict or rely on the insertion-order preservation feature of dictionaries in Python 3.7 and later."
      ],
      "metadata": {
        "id": "-tB3wlnJFSdP"
      }
    },
    {
      "cell_type": "markdown",
      "source": [
        "20)Explain the difference between a list and a dictionary in terms of data retrieval.\n",
        "Ans:-In Python, lists and dictionaries are both versatile and commonly used data structures, but they serve different purposes and have different characteristics, especially when it comes to data retrieval. Here's a detailed comparison:\n",
        "\n",
        "Lists\n",
        "Ordered Collection:\n",
        "\n",
        "Definition: A list is an ordered collection of elements.\n",
        "Index-Based Access: Elements in a list can be accessed by their index, which is an integer starting from 0.\n",
        "Retrieval: Accessing an element by its index is an\n",
        "𝑂(1)\n",
        "O(1) operation (constant time).\n",
        "\n",
        "Example:\n",
        "\n",
        "my_list = ['apple', 'banana', 'cherry']\n",
        "print(my_list[1])  # Output: banana\n",
        "Sequential Access:\n",
        "\n",
        "Iteration: Lists can be easily iterated in the order of elements.\n",
        "Example:\n",
        "\n",
        "for item in my_list:\n",
        "    print(item)\n",
        "\n",
        "Homogeneous Data:\n",
        "\n",
        "Lists are typically used for collections of similar data types, but they can store mixed types as well.\n",
        "Example:\n",
        "\n",
        "mixed_list = [1, 'apple', 3.14, True]\n",
        "Use Cases:\n",
        "\n",
        "Suitable for ordered collections, sequences, or when the position of elements is important.\n",
        "Examples include: lists of numbers, names, steps in a process, etc.\n",
        "Dictionaries\n",
        "\n",
        "Unordered Collection:\n",
        "\n",
        "Definition: A dictionary is an unordered collection of key-value pairs.\n",
        "Key-Based Access: Elements in a dictionary are accessed using keys, which can be of various immutable types (strings, numbers, tuples).\n",
        "Retrieval: Accessing a value by its key is an\n",
        "𝑂(1)\n",
        "O(1) operation on average due to the underlying hash table implementation.\n",
        "\n",
        "Example:\n",
        "\n",
        "my_dict = {'name': 'Alice', 'age': 25, 'city': 'New York'}\n",
        "\n",
        "print(my_dict['age'])  # Output: 25\n",
        "\n",
        "Key-Based Access:\n",
        "\n",
        "Iteration: Dictionaries can be iterated over their keys, values, or key-value pairs.\n",
        "\n",
        "Example:\n",
        "\n",
        "for key in my_dict:\n",
        "\n",
        "print(key, my_dict[key])\n",
        "\n",
        "Heterogeneous Data:\n",
        "\n",
        "Dictionaries are often used for collections of data with different types, where each piece of data is associated with a unique key.\n",
        "Example:\n",
        "\n",
        "person = {'name': 'John', 'age': 30, 'is_employee': True}\n",
        "\n",
        "Use Cases:\n",
        "\n",
        "Suitable for collections where quick lookups, insertions, and deletions by key are important.\n",
        "\n",
        "Examples include: mapping names to phone numbers, storing configuration settings, representing objects with attributes, etc.\n",
        "\n",
        "Key Differences in Data Retrieval\n",
        "Access Method:\n",
        "\n",
        "List: Access elements by index.\n",
        "\n",
        "my_list = [10, 20, 30]\n",
        "\n",
        "print(my_list[1])  # Output: 20\n",
        "\n",
        "Dictionary: Access elements by key.\n",
        "\n",
        "my_dict = {'a': 100, 'b': 200, 'c': 300}\n",
        "\n",
        "print(my_dict['b'])  # Output: 200\n",
        "\n",
        "Order:\n",
        "\n",
        "List: Maintains the order of elements as inserted.\n",
        "Dictionary: As of Python 3.7, maintains insertion order, but traditionally considered unordered.\n",
        "Efficiency:\n",
        "\n",
        "List: Access by index is very efficient (\n",
        "𝑂(1)\n",
        "\n",
        "O(1)). However, finding an element by value requires a linear search (\n",
        "\n",
        "𝑂(𝑛)\n",
        "\n",
        "O(n)).\n",
        "\n",
        "my_list = [1, 2, 3, 4, 5]\n",
        "\n",
        "print(3 in my_list)  # Checks if 3 is in the list, O(n) operation\n",
        "\n",
        "Dictionary: Access by key is very efficient (\n",
        "\n",
        "𝑂(1)\n",
        "\n",
        "O(1) on average). Keys are hashed, providing fast lookups.\n",
        "\n",
        "\n",
        "my_dict = {'x': 10, 'y': 20, 'z': 30}\n",
        "\n",
        "print('y' in my_dict)  # Checks if 'y' is a key in the dictionary, O(1) operation\n",
        "\n",
        "Summary:-\n",
        "\n",
        "Lists are ideal for ordered collections where elements are accessed by their position.\n",
        "Dictionaries are best for collections of key-value pairs where elements are accessed by unique keys."
      ],
      "metadata": {
        "id": "dBVnjSqdJ3L_"
      }
    },
    {
      "cell_type": "markdown",
      "source": [
        "# ***PRACTICAL QUESTIONS***"
      ],
      "metadata": {
        "id": "JhhGfr-CN7vi"
      }
    },
    {
      "cell_type": "markdown",
      "source": [
        "1)Write a code to create a string with your name and print it."
      ],
      "metadata": {
        "id": "7x5rzo4OgSWD"
      }
    },
    {
      "cell_type": "code",
      "source": [
        "\n",
        "# Create a string with your name\n",
        "my_name = \"Ajay\"\n",
        "\n",
        "# Print the string\n",
        "print(my_name)\n",
        "\n"
      ],
      "metadata": {
        "colab": {
          "base_uri": "https://localhost:8080/"
        },
        "id": "H6dhWo6deqwl",
        "outputId": "4c24d1f5-7e58-4f79-d7b5-c18031a063b0"
      },
      "execution_count": 2,
      "outputs": [
        {
          "output_type": "stream",
          "name": "stdout",
          "text": [
            "Ajay\n"
          ]
        }
      ]
    },
    {
      "cell_type": "markdown",
      "source": [
        "2)Write a code to find the length of the string \"Hello World\"."
      ],
      "metadata": {
        "id": "DvDVODaBgV4Y"
      }
    },
    {
      "cell_type": "code",
      "source": [
        "# Define the string\n",
        "my_string = \"Hello World\"\n",
        "\n",
        "# Find the length of the string\n",
        "length_of_string = len(my_string)\n",
        "\n",
        "# Print the length\n",
        "print(length_of_string)\n"
      ],
      "metadata": {
        "colab": {
          "base_uri": "https://localhost:8080/"
        },
        "id": "LGcSjbyrf9jU",
        "outputId": "cc3c2b16-15d5-4e27-ade3-b091f00d3a0e"
      },
      "execution_count": 3,
      "outputs": [
        {
          "output_type": "stream",
          "name": "stdout",
          "text": [
            "11\n"
          ]
        }
      ]
    },
    {
      "cell_type": "markdown",
      "source": [
        "3)Write a code to slice the first 3 characters from the string \"Python Programming\""
      ],
      "metadata": {
        "id": "T1Yhqe75hCPR"
      }
    },
    {
      "cell_type": "code",
      "source": [
        "# Define the string\n",
        "my_string = \"Python Programming\"\n",
        "\n",
        "# Slice the first 3 characters\n",
        "sliced_string = my_string[:3]\n",
        "\n",
        "# Print the sliced string\n",
        "print(sliced_string)"
      ],
      "metadata": {
        "colab": {
          "base_uri": "https://localhost:8080/"
        },
        "id": "VzeySFVshPQO",
        "outputId": "7eadb0be-5d72-4c4a-d3f5-676d24d37c47"
      },
      "execution_count": 4,
      "outputs": [
        {
          "output_type": "stream",
          "name": "stdout",
          "text": [
            "Pyt\n"
          ]
        }
      ]
    },
    {
      "cell_type": "markdown",
      "source": [
        "4)Write a code to convert the string \"hello\" to uppercase"
      ],
      "metadata": {
        "id": "5gldzWEuhcj8"
      }
    },
    {
      "cell_type": "code",
      "source": [
        "# Define the string\n",
        "my_string = \"hello\"\n",
        "\n",
        "# Convert the string to uppercase\n",
        "uppercase_string = my_string.upper()\n",
        "\n",
        "# Print the uppercase string\n",
        "print(uppercase_string)\n"
      ],
      "metadata": {
        "colab": {
          "base_uri": "https://localhost:8080/"
        },
        "id": "mBi567r5heGl",
        "outputId": "d20b8bf6-7d74-4b7a-c280-72d12ce39eb9"
      },
      "execution_count": 5,
      "outputs": [
        {
          "output_type": "stream",
          "name": "stdout",
          "text": [
            "HELLO\n"
          ]
        }
      ]
    },
    {
      "cell_type": "markdown",
      "source": [
        "5)Write a code to replace the word \"apple\" with \"orange\" in the string \"I like apple\"."
      ],
      "metadata": {
        "id": "97kVUFy4jGAW"
      }
    },
    {
      "cell_type": "code",
      "source": [
        "# Define the string\n",
        "my_string = \"I like apple\"\n",
        "\n",
        "# Replace \"apple\" with \"orange\"\n",
        "replaced_string = my_string.replace(\"apple\", \"orange\")\n",
        "\n",
        "# Print the updated string\n",
        "print(replaced_string)\n"
      ],
      "metadata": {
        "colab": {
          "base_uri": "https://localhost:8080/"
        },
        "id": "LOj0CcgVjSaI",
        "outputId": "0aa208db-0302-4bd6-f93c-711427c206a1"
      },
      "execution_count": 6,
      "outputs": [
        {
          "output_type": "stream",
          "name": "stdout",
          "text": [
            "I like orange\n"
          ]
        }
      ]
    },
    {
      "cell_type": "markdown",
      "source": [
        "6)Write a code to create a list with numbers 1 to 5 and print it."
      ],
      "metadata": {
        "id": "vKms74LjjiYw"
      }
    },
    {
      "cell_type": "code",
      "source": [
        "# Create a list with numbers 1 to 5\n",
        "my_list = [1, 2, 3, 4, 5]\n",
        "\n",
        "# Print the list\n",
        "print(my_list)\n"
      ],
      "metadata": {
        "colab": {
          "base_uri": "https://localhost:8080/"
        },
        "id": "6AAOU1xojuda",
        "outputId": "01d6c5cb-2143-4923-e3a9-72207fb61513"
      },
      "execution_count": 7,
      "outputs": [
        {
          "output_type": "stream",
          "name": "stdout",
          "text": [
            "[1, 2, 3, 4, 5]\n"
          ]
        }
      ]
    },
    {
      "cell_type": "markdown",
      "source": [
        "7)Write a code to append the number 10 to the list [1, 2, 3, 4]."
      ],
      "metadata": {
        "id": "5EIluS9pj_UU"
      }
    },
    {
      "cell_type": "code",
      "source": [
        "# Define the list\n",
        "my_list = [1, 2, 3, 4]\n",
        "\n",
        "# Append the number 10 to the list\n",
        "my_list.append(10)\n",
        "\n",
        "# Print the updated list\n",
        "print(my_list)\n"
      ],
      "metadata": {
        "colab": {
          "base_uri": "https://localhost:8080/"
        },
        "id": "yLRTv0XnkEWM",
        "outputId": "ded30ee4-f80d-44dc-fb32-5532c029e428"
      },
      "execution_count": 8,
      "outputs": [
        {
          "output_type": "stream",
          "name": "stdout",
          "text": [
            "[1, 2, 3, 4, 10]\n"
          ]
        }
      ]
    },
    {
      "cell_type": "markdown",
      "source": [
        "8)Write a code to remove the number 3 from the list [1, 2, 3, 4, 5]"
      ],
      "metadata": {
        "id": "fbH5O67CkMYS"
      }
    },
    {
      "cell_type": "code",
      "source": [
        "# Define the list\n",
        "my_list = [1, 2, 3, 4, 5]\n",
        "\n",
        "# Remove the number 3 from the list\n",
        "my_list.remove(3)\n",
        "\n",
        "# Print the updated list\n",
        "print(my_list)\n"
      ],
      "metadata": {
        "colab": {
          "base_uri": "https://localhost:8080/"
        },
        "id": "yIGdjk2qkdZO",
        "outputId": "e437a880-8204-4265-df1d-be0f27ca96de"
      },
      "execution_count": 9,
      "outputs": [
        {
          "output_type": "stream",
          "name": "stdout",
          "text": [
            "[1, 2, 4, 5]\n"
          ]
        }
      ]
    },
    {
      "cell_type": "markdown",
      "source": [
        "9)Write a code to access the second element in the list ['a', 'b', 'c', 'd']"
      ],
      "metadata": {
        "id": "NMn3Vrn2kqPd"
      }
    },
    {
      "cell_type": "code",
      "source": [
        "# Define the list\n",
        "my_list = ['a', 'b', 'c', 'd']\n",
        "\n",
        "# Access the second element (index 1)\n",
        "second_element = my_list[1]\n",
        "\n",
        "# Print the second element\n",
        "print(second_element)\n"
      ],
      "metadata": {
        "colab": {
          "base_uri": "https://localhost:8080/"
        },
        "id": "9PBmSt5ckwUU",
        "outputId": "21600ed3-e18e-4871-dc6d-766396c4e580"
      },
      "execution_count": 10,
      "outputs": [
        {
          "output_type": "stream",
          "name": "stdout",
          "text": [
            "b\n"
          ]
        }
      ]
    },
    {
      "cell_type": "markdown",
      "source": [
        "10)Write a code to reverse the list [10, 20, 30, 40, 50]"
      ],
      "metadata": {
        "id": "3SEKVfHwk7ck"
      }
    },
    {
      "cell_type": "code",
      "source": [
        "# Define the list\n",
        "my_list = [10, 20, 30, 40, 50]\n",
        "\n",
        "# Reverse the list\n",
        "reverse_list = my_list[::-1]\n",
        "\n",
        "# Print the reverse list\n",
        "print(reverse_list)\n"
      ],
      "metadata": {
        "colab": {
          "base_uri": "https://localhost:8080/"
        },
        "id": "pVyfFtVllCWu",
        "outputId": "2ff14f11-7408-4826-c099-a51a05ee2dc0"
      },
      "execution_count": 12,
      "outputs": [
        {
          "output_type": "stream",
          "name": "stdout",
          "text": [
            "[50, 40, 30, 20, 10]\n"
          ]
        }
      ]
    },
    {
      "cell_type": "markdown",
      "source": [
        "11)Write a code to create a tuple with the elements 10, 20, 30 and print it."
      ],
      "metadata": {
        "id": "kB9SHqptlRXv"
      }
    },
    {
      "cell_type": "code",
      "source": [
        "# Create a tuple with the elements 10, 20, 30\n",
        "my_tuple = (10, 20, 30)\n",
        "\n",
        "# Print the tuple\n",
        "print(my_tuple)\n"
      ],
      "metadata": {
        "colab": {
          "base_uri": "https://localhost:8080/"
        },
        "id": "4V8DwaEeldfF",
        "outputId": "77b27d91-e726-4856-bdd7-8ad1fe0858ca"
      },
      "execution_count": 13,
      "outputs": [
        {
          "output_type": "stream",
          "name": "stdout",
          "text": [
            "(10, 20, 30)\n"
          ]
        }
      ]
    },
    {
      "cell_type": "markdown",
      "source": [
        "12)Write a code to access the first element of the tuple ('apple', 'banana', 'cherry')"
      ],
      "metadata": {
        "id": "YE0-y5Ugljlb"
      }
    },
    {
      "cell_type": "code",
      "source": [
        "# Define the tuple\n",
        "my_tuple = ('apple', 'banana', 'cherry')\n",
        "\n",
        "# Access the first element (index 0)\n",
        "first_element = my_tuple[0]\n",
        "\n",
        "# Print the first element\n",
        "print(first_element)\n"
      ],
      "metadata": {
        "colab": {
          "base_uri": "https://localhost:8080/"
        },
        "id": "HPjUw6EIlp8X",
        "outputId": "b498c41f-a4d5-41b9-9206-99dbe28e5d2d"
      },
      "execution_count": 14,
      "outputs": [
        {
          "output_type": "stream",
          "name": "stdout",
          "text": [
            "apple\n"
          ]
        }
      ]
    },
    {
      "cell_type": "markdown",
      "source": [
        "13) Write a code to count how many times the number 2 appears in the tuple (1, 2, 3, 2, 4, 2)"
      ],
      "metadata": {
        "id": "W126t7TFl0Ym"
      }
    },
    {
      "cell_type": "code",
      "source": [
        "# Define the tuple\n",
        "my_tuple = (1, 2, 3, 2, 4, 2)\n",
        "\n",
        "# Count how many times the number 2 appears in the tuple\n",
        "count_of_two = my_tuple.count(2)\n",
        "\n",
        "# Print the count\n",
        "print(count_of_two)\n"
      ],
      "metadata": {
        "colab": {
          "base_uri": "https://localhost:8080/"
        },
        "id": "hegIHxM4l5oU",
        "outputId": "887e9629-2099-4e2e-8631-cc988f691d9e"
      },
      "execution_count": 15,
      "outputs": [
        {
          "output_type": "stream",
          "name": "stdout",
          "text": [
            "3\n"
          ]
        }
      ]
    },
    {
      "cell_type": "markdown",
      "source": [
        "14) Write a code to find the index of the element \"cat\" in the tuple ('dog', 'cat', 'rabbit')"
      ],
      "metadata": {
        "id": "fyNDYt4vmLzZ"
      }
    },
    {
      "cell_type": "code",
      "source": [
        "# Define the tuple\n",
        "my_tuple = ('dog', 'cat', 'rabbit')\n",
        "\n",
        "# Find the index of the element \"cat\"\n",
        "index_of_cat = my_tuple.index('cat')\n",
        "\n",
        "# Print the index\n",
        "print(index_of_cat)\n"
      ],
      "metadata": {
        "colab": {
          "base_uri": "https://localhost:8080/"
        },
        "id": "xaH9nBovmQM5",
        "outputId": "e6b0da42-aa56-4221-cc45-8ac5f6f84268"
      },
      "execution_count": 16,
      "outputs": [
        {
          "output_type": "stream",
          "name": "stdout",
          "text": [
            "1\n"
          ]
        }
      ]
    },
    {
      "cell_type": "markdown",
      "source": [
        "15)Write a code to check if the element \"banana\" is in the tuple ('apple', 'orange', 'banana')"
      ],
      "metadata": {
        "id": "5Bfv4x-Cmbi8"
      }
    },
    {
      "cell_type": "code",
      "source": [
        "# Define the tuple\n",
        "my_tuple = ('apple', 'orange', 'banana')\n",
        "\n",
        "# Check if \"banana\" is in the tuple\n",
        "is_banana_in_tuple = 'banana' in my_tuple\n",
        "\n",
        "# Print the result\n",
        "print(is_banana_in_tuple)\n"
      ],
      "metadata": {
        "colab": {
          "base_uri": "https://localhost:8080/"
        },
        "id": "D-pxyOMnmjHg",
        "outputId": "bd0d7f72-7c1c-406d-827e-a1ac9a082196"
      },
      "execution_count": 17,
      "outputs": [
        {
          "output_type": "stream",
          "name": "stdout",
          "text": [
            "True\n"
          ]
        }
      ]
    },
    {
      "cell_type": "markdown",
      "source": [
        "16) Write a code to create a set with the elements 1, 2, 3, 4, 5 and print it."
      ],
      "metadata": {
        "id": "TQBoyABOm7dt"
      }
    },
    {
      "cell_type": "code",
      "source": [
        "# Create a set with the elements 1, 2, 3, 4, 5\n",
        "my_set = {1, 2, 3, 4, 5}\n",
        "\n",
        "# Print the set\n",
        "print(my_set)\n"
      ],
      "metadata": {
        "colab": {
          "base_uri": "https://localhost:8080/"
        },
        "id": "72Lu95qJnDuZ",
        "outputId": "31218541-e308-4777-a006-9120c8076351"
      },
      "execution_count": 18,
      "outputs": [
        {
          "output_type": "stream",
          "name": "stdout",
          "text": [
            "{1, 2, 3, 4, 5}\n"
          ]
        }
      ]
    },
    {
      "cell_type": "markdown",
      "source": [
        "17) Write a code to add the element 6 to the set {1, 2, 3, 4}.\n"
      ],
      "metadata": {
        "id": "OZxzAhSjnHeg"
      }
    },
    {
      "cell_type": "code",
      "source": [
        "# Define the set\n",
        "my_set = {1, 2, 3, 4}\n",
        "\n",
        "# Add the element 6 to the set\n",
        "my_set.add(6)\n",
        "\n",
        "# Print the updated set\n",
        "print(my_set)\n"
      ],
      "metadata": {
        "colab": {
          "base_uri": "https://localhost:8080/"
        },
        "id": "1RcqgTBcnOAR",
        "outputId": "153a70a5-7514-468d-b350-88bed308a93c"
      },
      "execution_count": 21,
      "outputs": [
        {
          "output_type": "stream",
          "name": "stdout",
          "text": [
            "{1, 2, 3, 4, 6}\n"
          ]
        }
      ]
    },
    {
      "cell_type": "markdown",
      "source": [
        "18) Write a code to create a tuple with the elements 10, 20, 30 and print it."
      ],
      "metadata": {
        "id": "XQcm7qjZpAzA"
      }
    },
    {
      "cell_type": "code",
      "source": [
        "# Create a tuple with the elements 10, 20, 30\n",
        "my_tuple = (10, 20, 30)\n",
        "\n",
        "# Print the tuple\n",
        "print(my_tuple)\n"
      ],
      "metadata": {
        "colab": {
          "base_uri": "https://localhost:8080/"
        },
        "id": "bBhUfOj4pyl1",
        "outputId": "847a6adf-3064-4c3f-d847-07295cdfb45c"
      },
      "execution_count": 22,
      "outputs": [
        {
          "output_type": "stream",
          "name": "stdout",
          "text": [
            "(10, 20, 30)\n"
          ]
        }
      ]
    },
    {
      "cell_type": "markdown",
      "source": [
        "19)Write a code to access the first element of the tuple ('apple', 'banana', 'cherry')."
      ],
      "metadata": {
        "id": "h0fOYj__p9jB"
      }
    },
    {
      "cell_type": "code",
      "source": [
        "# Define the tuple\n",
        "my_tuple = ('apple', 'banana', 'cherry')\n",
        "\n",
        "# Access the first element (index 0)\n",
        "first_element = my_tuple[0]\n",
        "\n",
        "# Print the first element\n",
        "print(first_element)"
      ],
      "metadata": {
        "colab": {
          "base_uri": "https://localhost:8080/"
        },
        "id": "9-Z107mkqFVw",
        "outputId": "969994b2-b8f7-4cf7-a176-d02ae72f63d9"
      },
      "execution_count": 23,
      "outputs": [
        {
          "output_type": "stream",
          "name": "stdout",
          "text": [
            "apple\n"
          ]
        }
      ]
    },
    {
      "cell_type": "markdown",
      "source": [
        "20)Write a code to count how many times the number 2 appears in the tuple (1, 2, 3, 2, 4, 2)"
      ],
      "metadata": {
        "id": "74gFkonYqJ4T"
      }
    },
    {
      "cell_type": "code",
      "source": [
        "# Define the tuple\n",
        "my_tuple = (1, 2, 3, 2, 4, 2)\n",
        "\n",
        "# Count how many times the number 2 appears in the tuple\n",
        "count_of_two = my_tuple.count(2)\n",
        "\n",
        "# Print the count\n",
        "print(count_of_two)\n"
      ],
      "metadata": {
        "colab": {
          "base_uri": "https://localhost:8080/"
        },
        "id": "CzAv_4OByy9c",
        "outputId": "b85aed40-4cd5-4669-e2c1-5df133953188"
      },
      "execution_count": 24,
      "outputs": [
        {
          "output_type": "stream",
          "name": "stdout",
          "text": [
            "3\n"
          ]
        }
      ]
    },
    {
      "cell_type": "markdown",
      "source": [
        "21)Write a code to find the index of the element \"cat\" in the tuple ('dog', 'cat', 'rabbit')"
      ],
      "metadata": {
        "id": "8m1WCeQxy_NA"
      }
    },
    {
      "cell_type": "code",
      "source": [
        "# Define the tuple\n",
        "my_tuple = ('dog', 'cat', 'rabbit')\n",
        "\n",
        "# Find the index of the element \"cat\"\n",
        "index_of_cat = my_tuple.index('cat')\n",
        "\n",
        "# Print the index\n",
        "print(index_of_cat)\n"
      ],
      "metadata": {
        "colab": {
          "base_uri": "https://localhost:8080/"
        },
        "id": "z3ZPHveMzD8L",
        "outputId": "ca5f3e12-1b22-4b94-9ac1-80c4e6ab3c5f"
      },
      "execution_count": 25,
      "outputs": [
        {
          "output_type": "stream",
          "name": "stdout",
          "text": [
            "1\n"
          ]
        }
      ]
    },
    {
      "cell_type": "markdown",
      "source": [
        "22)Write a code to check if the element \"banana\" is in the tuple ('apple', 'orange', 'banana')"
      ],
      "metadata": {
        "id": "tA_WRKRQzPSJ"
      }
    },
    {
      "cell_type": "code",
      "source": [
        "# Define the tuple\n",
        "my_tuple = ('apple', 'orange', 'banana')\n",
        "\n",
        "# Check if \"banana\" is in the tuple\n",
        "is_banana_in_tuple = 'banana' in my_tuple\n",
        "\n",
        "# Print the result\n",
        "print(is_banana_in_tuple)\n"
      ],
      "metadata": {
        "colab": {
          "base_uri": "https://localhost:8080/"
        },
        "id": "EAjoUVshzVPR",
        "outputId": "383ddde4-3f8d-4c0d-e6a3-829f0c23a7fa"
      },
      "execution_count": 26,
      "outputs": [
        {
          "output_type": "stream",
          "name": "stdout",
          "text": [
            "True\n"
          ]
        }
      ]
    },
    {
      "cell_type": "markdown",
      "source": [
        "23) Write a code to create a set with the elements 1, 2, 3, 4, 5 and print it."
      ],
      "metadata": {
        "id": "KNQlTpZkzeZJ"
      }
    },
    {
      "cell_type": "code",
      "source": [
        "# Create a set with the elements 1, 2, 3, 4, 5\n",
        "my_set = {1, 2, 3, 4, 5}\n",
        "\n",
        "# Print the set\n",
        "print(my_set)\n"
      ],
      "metadata": {
        "colab": {
          "base_uri": "https://localhost:8080/"
        },
        "id": "44HkLxKQzh8c",
        "outputId": "32697a4d-4a9c-43ef-c5fc-71c7891e34cc"
      },
      "execution_count": 27,
      "outputs": [
        {
          "output_type": "stream",
          "name": "stdout",
          "text": [
            "{1, 2, 3, 4, 5}\n"
          ]
        }
      ]
    },
    {
      "cell_type": "markdown",
      "source": [
        "24)Write a code to add the element 6 to the set {1, 2, 3, 4}"
      ],
      "metadata": {
        "id": "w4tA4DsPzeNj"
      }
    },
    {
      "cell_type": "code",
      "source": [
        "# Define the set\n",
        "my_set = {1, 2, 3, 4}\n",
        "\n",
        "# Add the element 6 to the set\n",
        "my_set.add(6)\n",
        "\n",
        "# Print the updated set\n",
        "print(my_set)\n"
      ],
      "metadata": {
        "colab": {
          "base_uri": "https://localhost:8080/"
        },
        "id": "MIUdNzuIz5Gw",
        "outputId": "74234892-45fc-4ed6-afde-ebcaa332a407"
      },
      "execution_count": 28,
      "outputs": [
        {
          "output_type": "stream",
          "name": "stdout",
          "text": [
            "{1, 2, 3, 4, 6}\n"
          ]
        }
      ]
    }
  ]
}